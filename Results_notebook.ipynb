{
 "cells": [
  {
   "cell_type": "code",
   "execution_count": null,
   "metadata": {},
   "outputs": [],
   "source": [
    "!python3 main.py --time-upper 500 --no-sim 1000 --dataset-type 'autoput'"
   ]
  },
  {
   "cell_type": "code",
   "execution_count": 3,
   "metadata": {},
   "outputs": [],
   "source": [
    "!python main.py --time-upper 500 --no-sim 1000 --dataset-type 'ski'"
   ]
  },
  {
   "cell_type": "code",
   "execution_count": 10,
   "metadata": {},
   "outputs": [],
   "source": [
    "import os \n",
    "import glob\n",
    "import pandas as pd\n",
    "import numpy as np"
   ]
  },
  {
   "cell_type": "code",
   "execution_count": 11,
   "metadata": {},
   "outputs": [],
   "source": [
    "def get_csv(folder: str = 'Results', model_ext: str = 'MAE*.csv'):\n",
    "    \"\"\"Concat multiple .csv files into single df\"\"\"\n",
    "    location_of_documents = os.path.join(folder, model_ext)  # get all docs from glue\n",
    "    return list(glob.glob(location_of_documents))\n",
    "\n",
    "def print_MAE(path, bin_len :str = '5'):\n",
    "    #model_name\n",
    "    model = path.split('_')[3]\n",
    "    #bin size\n",
    "    bin_size = path.split('_')[4].split('.')[0]\n",
    "    \n",
    "    if bin_size != bin_len:\n",
    "        return\n",
    "\n",
    "    df = pd.read_csv(path).set_index('bin')\n",
    "    \n",
    "    print(f'Model name: {model}, for bean size: {bin_size} has total_MAE: {np.round(df.mean().mean(), 2)}, and std: {np.round(df.std().mean(), 2)}')\n",
    "    \n",
    "def fun(path, bin_len):\n",
    "    model = path.split('_')[2]\n",
    "        #bin size\n",
    "    bin_size = path.split('_')[3].split('.')[0]\n",
    "    if bin_size == bin_len:\n",
    "        df = pd.read_csv(path).set_index('bin')\n",
    "        print(f'Model name: {model}, for bean size: {bin_size} has total_MAE: {np.round(df.mean().mean(), 2)}, and std: {np.round(df.std().mean(), 2)}')"
   ]
  },
  {
   "cell_type": "markdown",
   "metadata": {},
   "source": [
    "## Test results"
   ]
  },
  {
   "cell_type": "code",
   "execution_count": 13,
   "metadata": {},
   "outputs": [
    {
     "name": "stdout",
     "output_type": "stream",
     "text": [
      "Model name: HawkesTPP(simson), for bean size: 5 has total_MAE: 3.13, and std: 2.63\n",
      "Model name: PoissonTPP(Simson), for bean size: 5 has total_MAE: 3.52, and std: 2.87\n",
      "Model name: PoissonTPP(Euler), for bean size: 5 has total_MAE: 4.51, and std: 3.08\n",
      "Model name: GausTPP(Euler), for bean size: 5 has total_MAE: 2.97, and std: 2.55\n",
      "Model name: GausTTP(Simson), for bean size: 5 has total_MAE: 3.19, and std: 2.69\n",
      "Model name: HawkesTPP(Trapezoid), for bean size: 5 has total_MAE: 3.34, and std: 2.83\n",
      "\n",
      "\n",
      "Model name: PoissonTPP(Euler), for bean size: 10 has total_MAE: 8.73, and std: 4.92\n",
      "Model name: PoissonTPP(Simson), for bean size: 10 has total_MAE: 6.59, and std: 4.25\n",
      "Model name: HawkesTPP(simson), for bean size: 10 has total_MAE: 5.48, and std: 3.79\n",
      "Model name: HawkesTPP(Trapezoid), for bean size: 10 has total_MAE: 6.19, and std: 4.07\n",
      "Model name: GausTPP(Euler), for bean size: 10 has total_MAE: 4.99, and std: 3.65\n",
      "Model name: GausTTP(Simson), for bean size: 10 has total_MAE: 5.75, and std: 3.97\n",
      "\n",
      "\n",
      "Model name: GausTPP(Euler), for bean size: 15 has total_MAE: 6.11, and std: 4.4\n",
      "Model name: GausTTP(Simson), for bean size: 15 has total_MAE: 7.44, and std: 5.72\n",
      "Model name: HawkesTPP(Trapezoid), for bean size: 15 has total_MAE: 8.16, and std: 6.04\n",
      "Model name: HawkesTPP(simson), for bean size: 15 has total_MAE: 7.0, and std: 5.4\n",
      "Model name: PoissonTPP(Simson), for bean size: 15 has total_MAE: 8.83, and std: 6.27\n",
      "Model name: PoissonTPP(Euler), for bean size: 15 has total_MAE: 12.68, and std: 6.73\n"
     ]
    }
   ],
   "source": [
    "dfs = get_csv()    \n",
    "\n",
    "for path in dfs:\n",
    "    fun(path, '5')\n",
    "print('\\n')    \n",
    "for path in dfs:\n",
    "    fun(path, '10')\n",
    "print('\\n')\n",
    "for path in dfs:\n",
    "    fun(path, '15')"
   ]
  },
  {
   "cell_type": "markdown",
   "metadata": {},
   "source": [
    "## Results for SKI"
   ]
  },
  {
   "cell_type": "code",
   "execution_count": 14,
   "metadata": {},
   "outputs": [
    {
     "name": "stdout",
     "output_type": "stream",
     "text": [
      "Model name: HawkesTPP(simson), for bean size: 5 has total_MAE: 3.42, and std: 2.67\n",
      "Model name: PoissonTPP(Simson), for bean size: 5 has total_MAE: 4.03, and std: 2.95\n",
      "Model name: PoissonTPP(Euler), for bean size: 5 has total_MAE: 5.28, and std: 3.04\n",
      "Model name: GausTPP(Euler), for bean size: 5 has total_MAE: 2.93, and std: 2.26\n",
      "Model name: GausTTP(Simson), for bean size: 5 has total_MAE: 3.59, and std: 2.75\n",
      "Model name: HawkesTPP(Trapezoid), for bean size: 5 has total_MAE: 3.84, and std: 2.88\n",
      "\n",
      "\n",
      "Model name: PoissonTPP(Euler), for bean size: 10 has total_MAE: 9.39, and std: 6.26\n",
      "Model name: PoissonTPP(Simson), for bean size: 10 has total_MAE: 7.34, and std: 5.18\n",
      "Model name: HawkesTPP(simson), for bean size: 10 has total_MAE: 6.33, and std: 4.4\n",
      "Model name: HawkesTPP(Trapezoid), for bean size: 10 has total_MAE: 7.05, and std: 4.95\n",
      "Model name: GausTPP(Euler), for bean size: 10 has total_MAE: 5.49, and std: 3.7\n",
      "Model name: GausTTP(Simson), for bean size: 10 has total_MAE: 6.6, and std: 4.61\n",
      "\n",
      "\n",
      "Model name: GausTPP(Euler), for bean size: 15 has total_MAE: 5.12, and std: 3.33\n",
      "Model name: GausTTP(Simson), for bean size: 15 has total_MAE: 9.31, and std: 4.16\n",
      "Model name: HawkesTPP(Trapezoid), for bean size: 15 has total_MAE: 10.46, and std: 4.25\n",
      "Model name: HawkesTPP(simson), for bean size: 15 has total_MAE: 8.37, and std: 4.2\n",
      "Model name: PoissonTPP(Simson), for bean size: 15 has total_MAE: 11.27, and std: 4.17\n",
      "Model name: PoissonTPP(Euler), for bean size: 15 has total_MAE: 15.78, and std: 3.8\n"
     ]
    }
   ],
   "source": [
    "dfs = get_csv(folder = 'Results_ski')    \n",
    "\n",
    "for path in dfs:\n",
    "    print_MAE(path)\n",
    "print('\\n')    \n",
    "for path in dfs:\n",
    "    print_MAE(path, '10')\n",
    "print('\\n')\n",
    "for path in dfs:\n",
    "    print_MAE(path, '15')"
   ]
  },
  {
   "cell_type": "markdown",
   "metadata": {},
   "source": [
    "## Results for AUTOPUT"
   ]
  },
  {
   "cell_type": "code",
   "execution_count": 15,
   "metadata": {},
   "outputs": [
    {
     "name": "stdout",
     "output_type": "stream",
     "text": [
      "Model name: PoissonTPP.torch, for bean size: 5 has total_MAE: 8.9, and std: 5.2\n",
      "Model name: Hawk(Simson), for bean size: 5 has total_MAE: 5.21, and std: 4.09\n",
      "Model name: GausTPP, for bean size: 5 has total_MAE: 5.79, and std: 4.51\n",
      "Model name: Hawks, for bean size: 5 has total_MAE: 5.49, and std: 4.33\n",
      "\n",
      "\n",
      "Model name: PoissonTPP.torch, for bean size: 10 has total_MAE: 17.59, and std: 9.96\n",
      "Model name: Hawk(Simson), for bean size: 10 has total_MAE: 9.33, and std: 7.71\n",
      "Model name: GausTPP, for bean size: 10 has total_MAE: 10.62, and std: 8.79\n",
      "Model name: Hawks, for bean size: 10 has total_MAE: 9.94, and std: 8.36\n",
      "\n",
      "\n",
      "Model name: Hawks, for bean size: 15 has total_MAE: 14.42, and std: 12.18\n",
      "Model name: GausTPP, for bean size: 15 has total_MAE: 15.47, and std: 12.87\n",
      "Model name: PoissonTPP.torch, for bean size: 15 has total_MAE: 26.35, and std: 14.48\n",
      "Model name: Hawk(Simson), for bean size: 15 has total_MAE: 13.45, and std: 11.1\n"
     ]
    }
   ],
   "source": [
    "dfs = get_csv(folder = 'Results_autoput')\n",
    "\n",
    "for path in dfs:\n",
    "    print_MAE(path)\n",
    "print('\\n')    \n",
    "for path in dfs:\n",
    "    print_MAE(path, '10')\n",
    "print('\\n')\n",
    "for path in dfs:\n",
    "    print_MAE(path, '15')"
   ]
  }
 ],
 "metadata": {
  "instance_type": "ml.t3.medium",
  "kernelspec": {
   "display_name": "Python 3 (Data Science)",
   "language": "python",
   "name": "python3__SAGEMAKER_INTERNAL__arn:aws:sagemaker:eu-central-1:936697816551:image/datascience-1.0"
  },
  "language_info": {
   "codemirror_mode": {
    "name": "ipython",
    "version": 3
   },
   "file_extension": ".py",
   "mimetype": "text/x-python",
   "name": "python",
   "nbconvert_exporter": "python",
   "pygments_lexer": "ipython3",
   "version": "3.7.10"
  }
 },
 "nbformat": 4,
 "nbformat_minor": 4
}
